{
  "nbformat": 4,
  "nbformat_minor": 0,
  "metadata": {
    "colab": {
      "name": "Regression.ipynb",
      "provenance": [],
      "authorship_tag": "ABX9TyOeLDR65DzFp9irygg5e9Dd",
      "include_colab_link": true
    },
    "kernelspec": {
      "name": "python3",
      "display_name": "Python 3"
    }
  },
  "cells": [
    {
      "cell_type": "markdown",
      "metadata": {
        "id": "view-in-github",
        "colab_type": "text"
      },
      "source": [
        "<a href=\"https://colab.research.google.com/github/juliet-kipsang/Regression/blob/main/Regression.ipynb\" target=\"_parent\"><img src=\"https://colab.research.google.com/assets/colab-badge.svg\" alt=\"Open In Colab\"/></a>"
      ]
    },
    {
      "cell_type": "code",
      "metadata": {
        "colab": {
          "base_uri": "https://localhost:8080/"
        },
        "id": "ZhK_bsyyDlIa",
        "outputId": "fe47210a-063c-48f9-8bbd-05c8053e9f67"
      },
      "source": [
        " # Regression\r\n",
        "# Rule 1: Data must be labeled\r\n",
        "# Rule 2: The label MUST be a contounous variable i.e Expenditure, Sales, profits, Weight, height, BP, temp, age, \r\n",
        "# marks, speed, mpg, miles, kilometers, prices, fare, performance\r\n",
        "# An advertising dataset\r\n",
        "import pandas\r\n",
        "data = pandas.read_csv('https://modcom.co.ke/data/datasets/Advertising.csv')\r\n",
        "data\r\n",
        "\r\n",
        "# Can the model predict Tv - 138, radio - 40 , Newspaper - 100   How many sales can they Make?\r\n",
        "# Which among TV, Radio, newspaper can we focus on?  Which Combination will make more sales?\r\n",
        "# Split to X, Y\r\n",
        "\r\n",
        "array = data.values\r\n",
        "X  = array[:, 1:4]  # TV, Radio, Newspaper expenses\r\n",
        "Y  = array[:, 4]  # Sales   -outcome\r\n",
        "\r\n",
        "\r\n",
        "# Split to 70% trainig and 30% testing \r\n",
        "from sklearn import model_selection\r\n",
        "X_train, X_test, Y_train, Y_test  = model_selection.train_test_split(X,Y, test_size = 0.30, random_state=42)\r\n",
        "\r\n",
        "\r\n",
        "# cross validate\r\n",
        "from sklearn.neighbors import KNeighborsRegressor\r\n",
        "from sklearn.tree import DecisionTreeRegressor\r\n",
        "from sklearn.linear_model import LinearRegression\r\n",
        "from sklearn.ensemble import GradientBoostingRegressor\r\n",
        "from sklearn.ensemble import RandomForestRegressor\r\n",
        "from sklearn.svm import SVR\r\n",
        "\r\n",
        "\r\n",
        "\r\n",
        "\r\n",
        "models = []\r\n",
        "models.append(('KNN', KNeighborsRegressor()))\r\n",
        "models.append(('DT', DecisionTreeRegressor()))\r\n",
        "models.append(('LR', LinearRegression()))\r\n",
        "models.append(('GB', GradientBoostingRegressor()))\r\n",
        "models.append(('RFR', RandomForestRegressor()))\r\n",
        "models.append(('SVM', SVR()))\r\n",
        "\r\n",
        "for name, model in models:\r\n",
        "    kfold = model_selection.KFold(n_splits=10, random_state=42, shuffle=True)\r\n",
        "    cv_results = model_selection.cross_val_score(model, X_train, Y_train, cv=kfold, scoring = 'r2')\r\n",
        "    print(name, cv_results.mean())"
      ],
      "execution_count": null,
      "outputs": [
        {
          "output_type": "stream",
          "text": [
            "KNN 0.8790725161630053\n",
            "DT 0.9171501453480235\n",
            "LR 0.8757671101319765\n",
            "GB 0.9665270567836549\n",
            "RFR 0.965137741500504\n",
            "SVM 0.7366226480205218\n"
          ],
          "name": "stdout"
        }
      ]
    },
    {
      "cell_type": "code",
      "metadata": {
        "colab": {
          "base_uri": "https://localhost:8080/"
        },
        "id": "IR1BVjIPD7PK",
        "outputId": "0ea9394d-2e25-4a43-970b-9ad658a29fda"
      },
      "source": [
        "model = GradientBoostingRegressor()\r\n",
        "model.fit(X_train, Y_train)\r\n",
        "\r\n",
        "\r\n",
        "# test the model\r\n",
        "predictions = model.predict(X_test)\r\n",
        "print('Model predictions ', predictions)\r\n",
        "print('Expected ', Y_test)"
      ],
      "execution_count": null,
      "outputs": [
        {
          "output_type": "stream",
          "text": [
            "Model predictions  [17.11177509 21.89584916 20.31149838  6.18264522 23.52855497 12.969581\n",
            " 22.7833106   9.34468943 11.76430183 15.90246377  8.35901421  8.83027211\n",
            " 12.50420757  2.81420582 10.42048147 12.11370977  4.64608606 16.57238947\n",
            " 11.31385106 19.16646081 20.3347444  13.23980178 10.6955329  22.6768956\n",
            "  9.95845348  8.56160215 22.82893407 12.50256299 10.11953957  4.43821117\n",
            " 11.40986866 11.31385106 22.26426487  8.8430053  15.59768903 20.65114169\n",
            " 12.39952576 20.19353127 12.44261317  7.27286007 10.79548005 12.64358481\n",
            " 10.11585805  9.43597287 11.75264503  8.10889839 10.46473459 14.19871042\n",
            " 10.25025792 12.43543084 14.60987851 12.06376764  6.38170356  4.59158905\n",
            "  8.85128696 10.88775312 10.22398563 25.32367776  7.03554193 11.78598809]\n",
            "Expected  [16.9 22.4 21.4  7.3 24.7 12.6 22.3  8.4 11.5 14.9  9.5  8.7 11.9  5.3\n",
            " 10.3 11.7  5.5 16.6 11.3 18.9 19.7 12.5 10.9 22.2  9.3  8.1 21.7 13.4\n",
            " 10.6  5.7 10.6 11.3 23.7  8.7 16.1 20.7 11.6 20.8 11.9  6.9 11.  12.8\n",
            " 10.1  9.7 11.6  7.6 10.5 14.6 10.4 12.  14.6 11.7  7.2  6.6  9.4 11.\n",
            " 10.9 25.4  7.6 11.7]\n"
          ],
          "name": "stdout"
        }
      ]
    },
    {
      "cell_type": "code",
      "metadata": {
        "colab": {
          "base_uri": "https://localhost:8080/"
        },
        "id": "n9LPB7CxEIVh",
        "outputId": "768fe318-ae29-49d0-ae14-39874a9436ac"
      },
      "source": [
        "# check metrics\r\n",
        "from sklearn.metrics import r2_score\r\n",
        "print('Model R squred ', r2_score(Y_test, predictions))"
      ],
      "execution_count": null,
      "outputs": [
        {
          "output_type": "stream",
          "text": [
            "Model R squred  0.9803299620090552\n"
          ],
          "name": "stdout"
        }
      ]
    },
    {
      "cell_type": "code",
      "metadata": {
        "colab": {
          "base_uri": "https://localhost:8080/"
        },
        "id": "LKyz4xv5EQBq",
        "outputId": "b9fe8a79-01e0-463b-b927-5fbf5e1679d0"
      },
      "source": [
        " newexpense = [[100, 178 , 100]]\r\n",
        "\r\n",
        " predicted = model.predict(newexpense)\r\n",
        " print('You will make ', predicted, 'Units  @ 98%CL')\r\n"
      ],
      "execution_count": null,
      "outputs": [
        {
          "output_type": "stream",
          "text": [
            "You will make  [15.4632859] Units  @ 98%CL\n"
          ],
          "name": "stdout"
        }
      ]
    }
  ]
}